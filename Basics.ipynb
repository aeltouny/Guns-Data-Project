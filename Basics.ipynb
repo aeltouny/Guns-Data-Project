{
 "cells": [
  {
   "cell_type": "code",
   "execution_count": 17,
   "metadata": {
    "collapsed": false
   },
   "outputs": [
    {
     "name": "stdout",
     "output_type": "stream",
     "text": [
      "{'Native American/Native Alaskan': 2.452195557381109, 'Asian/Pacific Islander': 8.374309664161762, 'White': 3.356849303419181, 'Hispanic': 2.022049121091091, 'Black': 5.78773477735196}\n"
     ]
    }
   ],
   "source": [
    "def read_file(file):\n",
    "    import csv    \n",
    "    f= open(file,'r')\n",
    "    data = list(csv.reader(f))\n",
    "    header = data[0]\n",
    "    data = data[1:]\n",
    "    return data\n",
    "\n",
    "def mapping_guns_cens(intent = None) :\n",
    "    cens_data = read_file('census.csv')\n",
    "    map_dic= {}\n",
    "    perc_dic = {}\n",
    "    cens_data = cens_data[0]\n",
    "    #print(cens_data)\n",
    "    map_dic['Asian/Pacific Islander']= float(cens_data[14]) + float(cens_data[15])\n",
    "    map_dic['Black']= float(cens_data[12])\n",
    "    map_dic['Hispanic']= float(cens_data[11])\n",
    "    map_dic['Native American/Native Alaskan']= float(cens_data[13])\n",
    "    map_dic['White']= float(cens_data[10])\n",
    "    #idx_counts = idx_count(7)\n",
    "    idx_counts = idx_count(7, intent)\n",
    "    perc_dic['Asian/Pacific Islander'] = (idx_counts['Asian/Pacific Islander']/map_dic['Asian/Pacific Islander'])*100000\n",
    "    perc_dic['Black'] = (idx_counts['Black']/map_dic['Black'])*10000\n",
    "    perc_dic['Hispanic'] = (idx_counts['Hispanic']/map_dic['Hispanic'])*10000\n",
    "    perc_dic['Native American/Native Alaskan'] = (idx_counts['Native American/Native Alaskan']/map_dic['Native American/Native Alaskan'])*10000\n",
    "    perc_dic['White'] = (idx_counts['White']/map_dic['White'])*10000\n",
    "    print(perc_dic)\n",
    "        \n",
    "def idx_count(idx, intent = None ):\n",
    "    if intent is None :        \n",
    "        guns_data = read_file('guns.csv')\n",
    "    else: \n",
    "        guns_data = intent_lst(intent)\n",
    "    idx_counts = {}\n",
    "    for row in guns_data :\n",
    "        #print(row)\n",
    "        if row[idx] in idx_counts :\n",
    "            idx_counts[row[idx]] += 1\n",
    "        else:\n",
    "            idx_counts[row[idx]]= 1\n",
    "    return idx_counts\n",
    "    print(idx_counts)\n",
    "    \n",
    "def date_month_count() :\n",
    "    import datetime\n",
    "    guns_data = read_file('guns.csv')\n",
    "    year_month_counts = {}\n",
    "    for row in guns_data :\n",
    "        try :\n",
    "            int_year = int(row[1])\n",
    "            int_month = int(row[2])\n",
    "        except Exception :      \n",
    "            int_year = 2000\n",
    "            int_month = 1\n",
    "            #print(int_year)\n",
    "        date = datetime.datetime(year=int_year,month = int_month, day =1)\n",
    "        date_month = date.strftime('%Y, %B')\n",
    "        row.append(date_month)\n",
    "    for row in data :\n",
    "        if row[-1] in year_month_counts :\n",
    "            year_month_counts[row[-1]] += 1\n",
    "        else:\n",
    "            year_month_counts[row[-1]]= 1\n",
    "    print(year_month_counts)\n",
    "    \n",
    "def intent_lst(intent):\n",
    "    guns_data = read_file('guns.csv')\n",
    "    intent_lst = []\n",
    "    for intent_idx , value in enumerate(guns_data):\n",
    "        if value[3] == intent :\n",
    "            intent_lst.append(guns_data[intent_idx ])\n",
    "    return intent_lst\n",
    "    print(intent_lst)    \n",
    "    \n",
    "#idx_count(1,'Homicide' )\n",
    "#idx_count(1)\n",
    "#idx_count(5)\n",
    "#idx_count(7)\n",
    "mapping_guns_cens()\n",
    "#idx_count_intent(7, 'Homicide')\n",
    "#mapping_guns_cens()\n",
    "#intent_lst('Homicide')"
   ]
  },
  {
   "cell_type": "code",
   "execution_count": null,
   "metadata": {
    "collapsed": true
   },
   "outputs": [],
   "source": []
  }
 ],
 "metadata": {
  "kernelspec": {
   "display_name": "Python 3",
   "language": "python",
   "name": "python3"
  },
  "language_info": {
   "codemirror_mode": {
    "name": "ipython",
    "version": 3
   },
   "file_extension": ".py",
   "mimetype": "text/x-python",
   "name": "python",
   "nbconvert_exporter": "python",
   "pygments_lexer": "ipython3",
   "version": "3.4.3"
  }
 },
 "nbformat": 4,
 "nbformat_minor": 0
}
